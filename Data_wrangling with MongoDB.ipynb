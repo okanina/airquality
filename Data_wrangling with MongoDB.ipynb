{
 "cells": [
  {
   "cell_type": "code",
   "execution_count": 2,
   "id": "8e02350d",
   "metadata": {},
   "outputs": [],
   "source": [
    "from pprint import PrettyPrinter\n",
    "from pymongo import MongoClient\n",
    "import pandas as pd\n",
    "import matplotlib.pyplot as plt\n",
    "import pytz\n",
    "import config\n",
    "\n",
    "import warnings\n",
    "warnings.filterwarnings('ignore')"
   ]
  },
  {
   "cell_type": "code",
   "execution_count": 4,
   "id": "3b40b153",
   "metadata": {},
   "outputs": [],
   "source": [
    "# connecting to a local db\n",
    "client=MongoClient(host=\"localhost\", port=27017)"
   ]
  },
  {
   "cell_type": "code",
   "execution_count": 5,
   "id": "44d816ac",
   "metadata": {},
   "outputs": [],
   "source": [
    "# instantiate prettyprinter\n",
    "pp=PrettyPrinter(indent=2)"
   ]
  },
  {
   "cell_type": "markdown",
   "id": "b1d51f19",
   "metadata": {},
   "source": [
    "# Explore"
   ]
  },
  {
   "cell_type": "code",
   "execution_count": 6,
   "id": "a45bfc7a",
   "metadata": {},
   "outputs": [
    {
     "data": {
      "text/plain": [
       "[{'name': 'admin', 'sizeOnDisk': 40960, 'empty': False},\n",
       " {'name': 'airquality', 'sizeOnDisk': 63324160, 'empty': False},\n",
       " {'name': 'config', 'sizeOnDisk': 98304, 'empty': False},\n",
       " {'name': 'local', 'sizeOnDisk': 73728, 'empty': False}]"
      ]
     },
     "execution_count": 6,
     "metadata": {},
     "output_type": "execute_result"
    }
   ],
   "source": [
    "# viewing DBs present\n",
    "list(client.list_databases())"
   ]
  },
  {
   "cell_type": "code",
   "execution_count": 7,
   "id": "067b0174",
   "metadata": {},
   "outputs": [],
   "source": [
    "db=client[\"airquality\"]"
   ]
  },
  {
   "cell_type": "code",
   "execution_count": 8,
   "id": "72c8544d",
   "metadata": {},
   "outputs": [
    {
     "name": "stdout",
     "output_type": "stream",
     "text": [
      "nairobi\n"
     ]
    }
   ],
   "source": [
    "# view collections\n",
    "for collection in db.list_collections():\n",
    "    print(collection[\"name\"])"
   ]
  },
  {
   "cell_type": "code",
   "execution_count": 9,
   "id": "de61be6e",
   "metadata": {},
   "outputs": [],
   "source": [
    "# connect to a collection\n",
    "mycol=db[config.collection]"
   ]
  },
  {
   "cell_type": "code",
   "execution_count": 10,
   "id": "2bb2a7b5",
   "metadata": {},
   "outputs": [
    {
     "data": {
      "text/plain": [
       "1572473"
      ]
     },
     "execution_count": 10,
     "metadata": {},
     "output_type": "execute_result"
    }
   ],
   "source": [
    "#number of documents in the database\n",
    "mycol.count_documents({}) "
   ]
  },
  {
   "cell_type": "code",
   "execution_count": 11,
   "id": "6729edb6",
   "metadata": {},
   "outputs": [
    {
     "name": "stdout",
     "output_type": "stream",
     "text": [
      "{ '_id': ObjectId('65deef7b8a5bd3df1bb4974a'),\n",
      "  'lat': -1.3,\n",
      "  'location': 29,\n",
      "  'lon': 36.785,\n",
      "  'sensor_id': 57,\n",
      "  'sensor_type': 'SDS011',\n",
      "  'timestamp': datetime.datetime(2018, 12, 1, 0, 0, 6, 767000),\n",
      "  'value': 17.08,\n",
      "  'value_type': 'P1'}\n"
     ]
    }
   ],
   "source": [
    "# viewing one doc\n",
    "result=mycol.find_one({})\n",
    "pp.pprint(result)"
   ]
  },
  {
   "cell_type": "code",
   "execution_count": 12,
   "id": "a0399f49",
   "metadata": {},
   "outputs": [
    {
     "data": {
      "text/plain": [
       "['P1',\n",
       " 'P2',\n",
       " 'height',\n",
       " 'humidity',\n",
       " 'lat',\n",
       " 'lon',\n",
       " 'max_micro',\n",
       " 'min_micro',\n",
       " 'samples',\n",
       " 'temperature',\n",
       " 'timestamp']"
      ]
     },
     "execution_count": 12,
     "metadata": {},
     "output_type": "execute_result"
    }
   ],
   "source": [
    "# types of readings\n",
    "mycol.distinct('value_type')"
   ]
  },
  {
   "cell_type": "code",
   "execution_count": 13,
   "id": "e6f8c6cb",
   "metadata": {},
   "outputs": [
    {
     "name": "stdout",
     "output_type": "stream",
     "text": [
      "[ { '_id': ObjectId('65deef7b8a5bd3df1bb4974b'),\n",
      "    'lat': -1.3,\n",
      "    'location': 29,\n",
      "    'lon': 36.785,\n",
      "    'sensor_id': 57,\n",
      "    'sensor_type': 'SDS011',\n",
      "    'timestamp': datetime.datetime(2018, 12, 1, 0, 0, 6, 767000),\n",
      "    'value': 8.07,\n",
      "    'value_type': 'P2'},\n",
      "  { '_id': ObjectId('65deef7b8a5bd3df1bb4974f'),\n",
      "    'lat': -1.293,\n",
      "    'location': 40,\n",
      "    'lon': 36.769,\n",
      "    'sensor_id': 61,\n",
      "    'sensor_type': 'SDS011',\n",
      "    'timestamp': datetime.datetime(2018, 12, 1, 0, 0, 15, 914000),\n",
      "    'value': 8.7,\n",
      "    'value_type': 'P2'},\n",
      "  { '_id': ObjectId('65deef7b8a5bd3df1bb49751'),\n",
      "    'lat': -1.29,\n",
      "    'location': 30,\n",
      "    'lon': 36.777,\n",
      "    'sensor_id': 79,\n",
      "    'sensor_type': 'SDS011',\n",
      "    'timestamp': datetime.datetime(2018, 12, 1, 0, 0, 29, 137000),\n",
      "    'value': 7.93,\n",
      "    'value_type': 'P2'}]\n"
     ]
    }
   ],
   "source": [
    "result=mycol.find({\"value_type\":\"P2\"}).limit(3)\n",
    "\n",
    "pp.pprint(list(result))"
   ]
  },
  {
   "cell_type": "code",
   "execution_count": 14,
   "id": "531ceae6",
   "metadata": {},
   "outputs": [
    {
     "name": "stdout",
     "output_type": "stream",
     "text": [
      "[ {'_id': 'samples', 'count': 1},\n",
      "  {'_id': 'humidity', 'count': 319670},\n",
      "  {'_id': 'max_micro', 'count': 1},\n",
      "  {'_id': 'height', 'count': 34},\n",
      "  {'_id': 'min_micro', 'count': 1},\n",
      "  {'_id': 'timestamp', 'count': 34},\n",
      "  {'_id': 'P1', 'count': 466497},\n",
      "  {'_id': 'lon', 'count': 34},\n",
      "  {'_id': 'lat', 'count': 34},\n",
      "  {'_id': 'P2', 'count': 466497},\n",
      "  {'_id': 'temperature', 'count': 319670}]\n"
     ]
    }
   ],
   "source": [
    "# how many values are there per reading\n",
    "result=mycol.aggregate([{\"$group\":{\"_id\":\"$value_type\", \"count\":{\"$count\":{}}}}])\n",
    "pp.pprint(list(result))"
   ]
  },
  {
   "cell_type": "markdown",
   "id": "802b73c4",
   "metadata": {},
   "source": [
    "There are 466497 readings for PM2.5."
   ]
  },
  {
   "cell_type": "code",
   "execution_count": 15,
   "id": "55c54a49",
   "metadata": {},
   "outputs": [
    {
     "name": "stdout",
     "output_type": "stream",
     "text": [
      "{'timestamp': datetime.datetime(2018, 12, 1, 0, 0, 6, 767000), 'value': 8.07}\n"
     ]
    }
   ],
   "source": [
    "# retrieve the PM 2.5 readings\n",
    "result=mycol.find(\n",
    "    \n",
    "    {\"value_type\":\"P2\"},\n",
    "    \n",
    "    projection={\"value\":1, \"timestamp\":1, \"_id\":0} \n",
    "   )    \n",
    "\n",
    "\n",
    "pp.pprint(result.next())"
   ]
  },
  {
   "cell_type": "code",
   "execution_count": 16,
   "id": "48a10e93",
   "metadata": {},
   "outputs": [
    {
     "data": {
      "text/html": [
       "<div>\n",
       "<style scoped>\n",
       "    .dataframe tbody tr th:only-of-type {\n",
       "        vertical-align: middle;\n",
       "    }\n",
       "\n",
       "    .dataframe tbody tr th {\n",
       "        vertical-align: top;\n",
       "    }\n",
       "\n",
       "    .dataframe thead th {\n",
       "        text-align: right;\n",
       "    }\n",
       "</style>\n",
       "<table border=\"1\" class=\"dataframe\">\n",
       "  <thead>\n",
       "    <tr style=\"text-align: right;\">\n",
       "      <th></th>\n",
       "      <th>value</th>\n",
       "    </tr>\n",
       "    <tr>\n",
       "      <th>timestamp</th>\n",
       "      <th></th>\n",
       "    </tr>\n",
       "  </thead>\n",
       "  <tbody>\n",
       "    <tr>\n",
       "      <th>2018-11-30 23:59:04.660</th>\n",
       "      <td>10.93</td>\n",
       "    </tr>\n",
       "    <tr>\n",
       "      <th>2018-11-30 23:59:21.460</th>\n",
       "      <td>0.00</td>\n",
       "    </tr>\n",
       "    <tr>\n",
       "      <th>2018-11-30 23:59:27.726</th>\n",
       "      <td>9.20</td>\n",
       "    </tr>\n",
       "    <tr>\n",
       "      <th>2018-11-30 23:59:35.957</th>\n",
       "      <td>7.67</td>\n",
       "    </tr>\n",
       "    <tr>\n",
       "      <th>2018-11-30 23:59:50.639</th>\n",
       "      <td>6.90</td>\n",
       "    </tr>\n",
       "  </tbody>\n",
       "</table>\n",
       "</div>"
      ],
      "text/plain": [
       "                         value\n",
       "timestamp                     \n",
       "2018-11-30 23:59:04.660  10.93\n",
       "2018-11-30 23:59:21.460   0.00\n",
       "2018-11-30 23:59:27.726   9.20\n",
       "2018-11-30 23:59:35.957   7.67\n",
       "2018-11-30 23:59:50.639   6.90"
      ]
     },
     "execution_count": 16,
     "metadata": {},
     "output_type": "execute_result"
    }
   ],
   "source": [
    "df=pd.DataFrame(result).set_index('timestamp')\n",
    "df.tail()"
   ]
  },
  {
   "cell_type": "code",
   "execution_count": 20,
   "id": "cd64692a",
   "metadata": {},
   "outputs": [],
   "source": [
    "assert df.shape[1]==1, f\"`df` should only have one column not {df.shape[1]}\"\n",
    "\n",
    "assert df.columns==[\"value\"]"
   ]
  },
  {
   "cell_type": "code",
   "execution_count": 22,
   "id": "c4fd632b",
   "metadata": {},
   "outputs": [
    {
     "data": {
      "text/plain": [
       "count    466496.000000\n",
       "mean         11.142075\n",
       "std          38.764241\n",
       "min           0.000000\n",
       "25%           4.400000\n",
       "50%           7.180000\n",
       "75%          10.730000\n",
       "max         939.900000\n",
       "Name: value, dtype: float64"
      ]
     },
     "execution_count": 22,
     "metadata": {},
     "output_type": "execute_result"
    }
   ],
   "source": [
    "# looking at the distribution of 'P2'\n",
    "df.value.describe()"
   ]
  },
  {
   "cell_type": "code",
   "execution_count": 23,
   "id": "d34873b4",
   "metadata": {},
   "outputs": [
    {
     "data": {
      "text/plain": [
       "<Axes: title={'center': 'Distribution of PM2.5 Reading'}>"
      ]
     },
     "execution_count": 23,
     "metadata": {},
     "output_type": "execute_result"
    },
    {
     "data": {
      "image/png": "[encoded data removed]",
      "text/plain": [
       "<Figure size 1500x600 with 1 Axes>"
      ]
     },
     "metadata": {},
     "output_type": "display_data"
    }
   ],
   "source": [
    "fig, ax=plt.subplots(figsize=(15,6))\n",
    "df.value.plot(kind=\"box\", vert= False, title=\"Distribution of PM2.5 Reading\", ax=ax)"
   ]
  },
  {
   "cell_type": "markdown",
   "id": "0384beae",
   "metadata": {},
   "source": [
    "The PM2.5 reading dataset has outliers, the minimum value is 0.000000, the 75 percentile is 10.250000 while the maximum value is 939.900000."
   ]
  },
  {
   "cell_type": "code",
   "execution_count": null,
   "id": "9ca38360",
   "metadata": {},
   "outputs": [],
   "source": [
    "in this project I am predicting the average Pm2.5 reading hourly. I downloadel the data from openAfrica[`https://africaopendata.org/datasetm]"
   ]
  }
 ],
 "metadata": {
  "kernelspec": {
   "display_name": "Python 3 (ipykernel)",
   "language": "python",
   "name": "python3"
  },
  "language_info": {
   "codemirror_mode": {
    "name": "ipython",
    "version": 3
   },
   "file_extension": ".py",
   "mimetype": "text/x-python",
   "name": "python",
   "nbconvert_exporter": "python",
   "pygments_lexer": "ipython3",
   "version": "3.11.5"
  }
 },
 "nbformat": 4,
 "nbformat_minor": 5
}
